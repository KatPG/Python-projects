{
 "cells": [
  {
   "cell_type": "markdown",
   "id": "fc73d8a2",
   "metadata": {},
   "source": [
    "#  Análisis exploratorio de datos\n",
    "## Procesos de contratación pública en la plataforma SECOP II - Contratos Electrónicos activos\n",
    "\n",
    "Datos alojados en la plataforma de datos abiertos Colombia:\n",
    "https://www.datos.gov.co/Gastos-Gubernamentales/SECOP-II-Contratos-Electr-nicos-ACTIVOS/p8vk-huva\n",
    "(Fecha de Actualización:02/11/2023)\n",
    "\n",
    "### Interrogantes a resolver:\n",
    "\n",
    "1- Origen de recursos para contratación pública que represente mayor aporte a los procesos de contratación por año.\n",
    "\n",
    "2- Distribución de los recursos distribuidos por orden (Corporación Autónoma / Nacional / Territorial) y Top 5 Departamentos con mayor asignación.\n",
    "\n",
    "3- Tipo de contración (Directa, Decreto, ...) con el que se gestiona la mayor cantidad de recursos, número de contratos y valor de los mismos. \n",
    "\n",
    "4- Top 5 sectores (Medio ambiente, Deporte, transporte,...) que reciben mayor cantidad de recursos para contratación para funcionamiento.\n",
    "\n",
    "5- Número y valor de contratos gestionados por la rama judicial en el departamento de Santander.\n",
    "\n",
    "6- Asignación de recursos distribuidos para contratación pública en el sector defensa por año.\n",
    "\n",
    "7- Sectores con mayor asignación de recursos distribuidos en lo corrido del 2023.\n",
    "\n",
    "8- Entidades territoriales/ Departamentos que realiza mayor aporte de recursos propios para procesos de contratación pública.\n",
    "\n",
    "9- Meses con mayor gestion de contratos, Número y valor de los mismos. Indique Top 3 Departamentos que durante estos meses en 2022 gestionaron estos recursos.\n",
    "\n",
    "10- Relación Valor y número de contratos por tipo de proveedor.\n",
    "\n",
    "11- Comparativa gestión de contratos en Santander a partir de recursos propios y distribuidos por año."
   ]
  },
  {
   "cell_type": "code",
   "execution_count": 3,
   "id": "49281ab9",
   "metadata": {},
   "outputs": [],
   "source": [
    "### Importando archivo .csv y librerias\n",
    "\n",
    "import pandas as pd\n",
    "df = pd.read_csv('SECOP_II_-_Contratos_ACTIVOS_20231102.csv')\n",
    "\n",
    "from datetime import date, datetime\n",
    "import matplotlib.pyplot as plt"
   ]
  },
  {
   "cell_type": "code",
   "execution_count": 4,
   "id": "996a4fa9",
   "metadata": {},
   "outputs": [
    {
     "data": {
      "text/plain": [
       "Index(['Nombre Entidad', 'Nit Entidad', 'Departamento', 'Ciudad',\n",
       "       'Localización', 'Orden', 'Sector', 'Rama', 'Entidad Centralizada',\n",
       "       'Proceso de Compra', 'ID Contrato', 'Referencia del Contrato',\n",
       "       'Estado Contrato', 'Codigo de Categoria Principal',\n",
       "       'Descripcion del Proceso', 'Tipo de Contrato',\n",
       "       'Modalidad de Contratacion', 'Justificacion Modalidad de Contratacion',\n",
       "       'Fecha de Firma', 'Fecha de Inicio del Contrato',\n",
       "       'Fecha de Fin del Contrato', 'Fecha de Inicio de Ejecucion',\n",
       "       'Fecha de Fin de Ejecucion', 'Condiciones de Entrega',\n",
       "       'TipoDocProveedor', 'Documento Proveedor', 'Proveedor Adjudicado',\n",
       "       'Es Grupo', 'Es Pyme', 'Habilita Pago Adelantado', 'Liquidación',\n",
       "       'Obligación Ambiental', 'Obligaciones Postconsumo', 'Reversion',\n",
       "       'Valor del Contrato', 'Valor de pago adelantado', 'Valor Facturado',\n",
       "       'Valor Pendiente de Pago', 'Valor Pagado', 'Valor Amortizado',\n",
       "       'Valor Pendiente de Amortizacion', 'Valor Pendiente de Ejecucion',\n",
       "       'Estado BPIN', 'Código BPIN', 'Anno BPIN', 'Saldo CDP',\n",
       "       'Saldo Vigencia', 'EsPostConflicto', 'URLProceso', 'Destino Gasto',\n",
       "       'Origen de los Recursos'],\n",
       "      dtype='object')"
      ]
     },
     "execution_count": 4,
     "metadata": {},
     "output_type": "execute_result"
    }
   ],
   "source": [
    "df.columns"
   ]
  },
  {
   "cell_type": "code",
   "execution_count": 5,
   "id": "dbe78cc0",
   "metadata": {},
   "outputs": [],
   "source": [
    "#Selección de variables\n",
    "df =df.loc[:, ['Nombre Entidad', 'Departamento', 'Ciudad',\n",
    "       'Localización', 'Orden', 'Sector', 'Rama', 'ID Contrato', 'Tipo de Contrato',\n",
    "       'Modalidad de Contratacion','Fecha de Firma', 'Fecha de Inicio del Contrato',\n",
    "       'Fecha de Fin del Contrato', 'TipoDocProveedor', 'Documento Proveedor', \n",
    "       'Valor del Contrato', 'Destino Gasto','Origen de los Recursos']]"
   ]
  },
  {
   "cell_type": "code",
   "execution_count": 6,
   "id": "9f531fa4",
   "metadata": {},
   "outputs": [
    {
     "data": {
      "text/html": [
       "<div>\n",
       "<style scoped>\n",
       "    .dataframe tbody tr th:only-of-type {\n",
       "        vertical-align: middle;\n",
       "    }\n",
       "\n",
       "    .dataframe tbody tr th {\n",
       "        vertical-align: top;\n",
       "    }\n",
       "\n",
       "    .dataframe thead th {\n",
       "        text-align: right;\n",
       "    }\n",
       "</style>\n",
       "<table border=\"1\" class=\"dataframe\">\n",
       "  <thead>\n",
       "    <tr style=\"text-align: right;\">\n",
       "      <th></th>\n",
       "      <th>Nombre Entidad</th>\n",
       "      <th>Departamento</th>\n",
       "      <th>Ciudad</th>\n",
       "      <th>Localización</th>\n",
       "      <th>Orden</th>\n",
       "      <th>Sector</th>\n",
       "      <th>Rama</th>\n",
       "      <th>ID Contrato</th>\n",
       "      <th>Tipo de Contrato</th>\n",
       "      <th>Modalidad de Contratacion</th>\n",
       "      <th>Fecha de Firma</th>\n",
       "      <th>Fecha de Inicio del Contrato</th>\n",
       "      <th>Fecha de Fin del Contrato</th>\n",
       "      <th>TipoDocProveedor</th>\n",
       "      <th>Documento Proveedor</th>\n",
       "      <th>Valor del Contrato</th>\n",
       "      <th>Destino Gasto</th>\n",
       "      <th>Origen de los Recursos</th>\n",
       "    </tr>\n",
       "  </thead>\n",
       "  <tbody>\n",
       "    <tr>\n",
       "      <th>0</th>\n",
       "      <td>Secretaría Distrital de Integración Social</td>\n",
       "      <td>Distrito Capital de Bogotá</td>\n",
       "      <td>No Definido</td>\n",
       "      <td>Colombia, Bogotá, Bogotá</td>\n",
       "      <td>Territorial</td>\n",
       "      <td>Inclusión Social y Reconciliación</td>\n",
       "      <td>Ejecutivo</td>\n",
       "      <td>CO1.PCCNTR.859877</td>\n",
       "      <td>Prestación de servicios</td>\n",
       "      <td>Contratación directa</td>\n",
       "      <td>03/08/2019</td>\n",
       "      <td>02/27/2019</td>\n",
       "      <td>12/26/2019</td>\n",
       "      <td>Cédula de Ciudadanía</td>\n",
       "      <td>1013609393</td>\n",
       "      <td>37050000</td>\n",
       "      <td>Inversión</td>\n",
       "      <td>Distribuido</td>\n",
       "    </tr>\n",
       "  </tbody>\n",
       "</table>\n",
       "</div>"
      ],
      "text/plain": [
       "                               Nombre Entidad                Departamento  \\\n",
       "0  Secretaría Distrital de Integración Social  Distrito Capital de Bogotá   \n",
       "\n",
       "        Ciudad              Localización        Orden  \\\n",
       "0  No Definido  Colombia, Bogotá, Bogotá  Territorial   \n",
       "\n",
       "                              Sector       Rama        ID Contrato  \\\n",
       "0  Inclusión Social y Reconciliación  Ejecutivo  CO1.PCCNTR.859877   \n",
       "\n",
       "          Tipo de Contrato Modalidad de Contratacion Fecha de Firma  \\\n",
       "0  Prestación de servicios      Contratación directa     03/08/2019   \n",
       "\n",
       "  Fecha de Inicio del Contrato Fecha de Fin del Contrato  \\\n",
       "0                   02/27/2019                12/26/2019   \n",
       "\n",
       "       TipoDocProveedor Documento Proveedor  Valor del Contrato Destino Gasto  \\\n",
       "0  Cédula de Ciudadanía          1013609393            37050000     Inversión   \n",
       "\n",
       "  Origen de los Recursos  \n",
       "0            Distribuido  "
      ]
     },
     "execution_count": 6,
     "metadata": {},
     "output_type": "execute_result"
    }
   ],
   "source": [
    "df.head(1)"
   ]
  },
  {
   "cell_type": "code",
   "execution_count": 7,
   "id": "e2feacb1",
   "metadata": {},
   "outputs": [
    {
     "data": {
      "text/html": [
       "<div>\n",
       "<style scoped>\n",
       "    .dataframe tbody tr th:only-of-type {\n",
       "        vertical-align: middle;\n",
       "    }\n",
       "\n",
       "    .dataframe tbody tr th {\n",
       "        vertical-align: top;\n",
       "    }\n",
       "\n",
       "    .dataframe thead th {\n",
       "        text-align: right;\n",
       "    }\n",
       "</style>\n",
       "<table border=\"1\" class=\"dataframe\">\n",
       "  <thead>\n",
       "    <tr style=\"text-align: right;\">\n",
       "      <th></th>\n",
       "      <th>Nombre Entidad</th>\n",
       "      <th>Departamento</th>\n",
       "      <th>Ciudad</th>\n",
       "      <th>Localización</th>\n",
       "      <th>Orden</th>\n",
       "      <th>Sector</th>\n",
       "      <th>Rama</th>\n",
       "      <th>Tipo de Contrato</th>\n",
       "      <th>Modalidad de Contratacion</th>\n",
       "      <th>Fecha de Firma</th>\n",
       "      <th>Fecha de Inicio del Contrato</th>\n",
       "      <th>Fecha de Fin del Contrato</th>\n",
       "      <th>TipoDocProveedor</th>\n",
       "      <th>Documento Proveedor</th>\n",
       "      <th>Valor del Contrato</th>\n",
       "      <th>Destino Gasto</th>\n",
       "      <th>Origen de los Recursos</th>\n",
       "    </tr>\n",
       "    <tr>\n",
       "      <th>ID_Contrato</th>\n",
       "      <th></th>\n",
       "      <th></th>\n",
       "      <th></th>\n",
       "      <th></th>\n",
       "      <th></th>\n",
       "      <th></th>\n",
       "      <th></th>\n",
       "      <th></th>\n",
       "      <th></th>\n",
       "      <th></th>\n",
       "      <th></th>\n",
       "      <th></th>\n",
       "      <th></th>\n",
       "      <th></th>\n",
       "      <th></th>\n",
       "      <th></th>\n",
       "      <th></th>\n",
       "    </tr>\n",
       "  </thead>\n",
       "  <tbody>\n",
       "    <tr>\n",
       "      <th>268123</th>\n",
       "      <td>MINISTERIO DEL DEPORTE</td>\n",
       "      <td>Distrito Capital de Bogotá</td>\n",
       "      <td>Bogotá</td>\n",
       "      <td>Colombia, Bogotá, Bogotá</td>\n",
       "      <td>Nacional</td>\n",
       "      <td>deportes</td>\n",
       "      <td>Ejecutivo</td>\n",
       "      <td>Otro</td>\n",
       "      <td>Contratación régimen especial</td>\n",
       "      <td>01/01/2018</td>\n",
       "      <td>12/29/2017</td>\n",
       "      <td>06/30/2018</td>\n",
       "      <td>No Definido</td>\n",
       "      <td>860047439</td>\n",
       "      <td>900000000</td>\n",
       "      <td>Inversión</td>\n",
       "      <td>Distribuido</td>\n",
       "    </tr>\n",
       "  </tbody>\n",
       "</table>\n",
       "</div>"
      ],
      "text/plain": [
       "                     Nombre Entidad                Departamento  Ciudad  \\\n",
       "ID_Contrato                                                               \n",
       "268123       MINISTERIO DEL DEPORTE  Distrito Capital de Bogotá  Bogotá   \n",
       "\n",
       "                         Localización     Orden    Sector       Rama  \\\n",
       "ID_Contrato                                                            \n",
       "268123       Colombia, Bogotá, Bogotá  Nacional  deportes  Ejecutivo   \n",
       "\n",
       "            Tipo de Contrato      Modalidad de Contratacion Fecha de Firma  \\\n",
       "ID_Contrato                                                                  \n",
       "268123                  Otro  Contratación régimen especial     01/01/2018   \n",
       "\n",
       "            Fecha de Inicio del Contrato Fecha de Fin del Contrato  \\\n",
       "ID_Contrato                                                          \n",
       "268123                        12/29/2017                06/30/2018   \n",
       "\n",
       "            TipoDocProveedor Documento Proveedor  Valor del Contrato  \\\n",
       "ID_Contrato                                                            \n",
       "268123           No Definido           860047439           900000000   \n",
       "\n",
       "            Destino Gasto Origen de los Recursos  \n",
       "ID_Contrato                                       \n",
       "268123          Inversión            Distribuido  "
      ]
     },
     "execution_count": 7,
     "metadata": {},
     "output_type": "execute_result"
    }
   ],
   "source": [
    "#Split columna ID_Contrato\n",
    "df[['cod1','cod2','ID_Contrato']] = df['ID Contrato'].str.split(pat ='.',n=2, expand =True)\n",
    "#Eliminación columnas cod1, cod1, ID Contrato\n",
    "df.drop(columns =['cod1', 'cod2','ID Contrato'], inplace = True)\n",
    "#Set_index ID_Contrato\n",
    "df.set_index('ID_Contrato').sort_values(by= 'Fecha de Firma', ascending = True).head(1)"
   ]
  },
  {
   "cell_type": "code",
   "execution_count": 8,
   "id": "c76cf69d",
   "metadata": {},
   "outputs": [
    {
     "name": "stdout",
     "output_type": "stream",
     "text": [
      "<class 'pandas.core.frame.DataFrame'>\n",
      "RangeIndex: 215151 entries, 0 to 215150\n",
      "Data columns (total 18 columns):\n",
      " #   Column                        Non-Null Count   Dtype \n",
      "---  ------                        --------------   ----- \n",
      " 0   Nombre Entidad                215151 non-null  object\n",
      " 1   Departamento                  215151 non-null  object\n",
      " 2   Ciudad                        215151 non-null  object\n",
      " 3   Localización                  215151 non-null  object\n",
      " 4   Orden                         215151 non-null  object\n",
      " 5   Sector                        215151 non-null  object\n",
      " 6   Rama                          215151 non-null  object\n",
      " 7   Tipo de Contrato              215151 non-null  object\n",
      " 8   Modalidad de Contratacion     215151 non-null  object\n",
      " 9   Fecha de Firma                215120 non-null  object\n",
      " 10  Fecha de Inicio del Contrato  169556 non-null  object\n",
      " 11  Fecha de Fin del Contrato     215137 non-null  object\n",
      " 12  TipoDocProveedor              215151 non-null  object\n",
      " 13  Documento Proveedor           215149 non-null  object\n",
      " 14  Valor del Contrato            215151 non-null  int64 \n",
      " 15  Destino Gasto                 215151 non-null  object\n",
      " 16  Origen de los Recursos        215151 non-null  object\n",
      " 17  ID_Contrato                   215151 non-null  object\n",
      "dtypes: int64(1), object(17)\n",
      "memory usage: 29.5+ MB\n"
     ]
    }
   ],
   "source": [
    "df.info()\n",
    "#cambio de formato 'Fecha de Firma'\n",
    "df['Fecha de Firma'] = pd.to_datetime(df['Fecha de Firma'])\n",
    "df['Fecha de Fin del Contrato'] = pd.to_datetime(df['Fecha de Fin del Contrato'])\n",
    "#Relleno de celdas vacias (31) con fecha anterior \n",
    "df[\"Fecha de Firma\"].fillna( method ='ffill', inplace = True)\n",
    "#Creación de columna 'Año'\n",
    "df[\"Año\"] = df[\"Fecha de Firma\"].dt.year\n",
    "df[\"Mes\"] = df['Fecha de Firma'].dt.month\n",
    "#Renombre columna 'Origen de Recursos'\n",
    "df = df.rename(columns ={'Origen de los Recursos' :'Origen_Recursos','Fecha de Fin del Contrato':'Fecha_Fin_Contrato'})"
   ]
  },
  {
   "cell_type": "code",
   "execution_count": 9,
   "id": "a547bf2c",
   "metadata": {},
   "outputs": [
    {
     "data": {
      "text/plain": [
       "Nombre Entidad                      0\n",
       "Departamento                        0\n",
       "Ciudad                              0\n",
       "Localización                        0\n",
       "Orden                               0\n",
       "Sector                              0\n",
       "Rama                                0\n",
       "Tipo de Contrato                    0\n",
       "Modalidad de Contratacion           0\n",
       "Fecha de Firma                      0\n",
       "Fecha de Inicio del Contrato    45595\n",
       "Fecha_Fin_Contrato                 14\n",
       "TipoDocProveedor                    0\n",
       "Documento Proveedor                 2\n",
       "Valor del Contrato                  0\n",
       "Destino Gasto                       0\n",
       "Origen_Recursos                     0\n",
       "ID_Contrato                         0\n",
       "Año                                 0\n",
       "Mes                                 0\n",
       "dtype: int64"
      ]
     },
     "execution_count": 9,
     "metadata": {},
     "output_type": "execute_result"
    }
   ],
   "source": [
    "df.isnull().sum()"
   ]
  },
  {
   "cell_type": "markdown",
   "id": "d8eb7877",
   "metadata": {},
   "source": [
    "### Análisis exploratorio de datos\n",
    "\n",
    "1- Origen de recursos para contratación pública que represente mayor aporte a los procesos de contratación general y por año."
   ]
  },
  {
   "cell_type": "code",
   "execution_count": 10,
   "id": "e4e5638e",
   "metadata": {},
   "outputs": [
    {
     "data": {
      "text/plain": [
       "Origen_Recursos\n",
       "Distribuido         87.21\n",
       "Recursos Propios    12.79\n",
       "Name: Valor del Contrato, dtype: float64"
      ]
     },
     "execution_count": 10,
     "metadata": {},
     "output_type": "execute_result"
    }
   ],
   "source": [
    "#Porcentaje origen de recursos general\n",
    "round(df.groupby('Origen_Recursos')['Valor del Contrato'].sum()/df['Valor del Contrato'].sum()*100,2)"
   ]
  },
  {
   "cell_type": "code",
   "execution_count": 11,
   "id": "25b600ac",
   "metadata": {},
   "outputs": [
    {
     "data": {
      "text/html": [
       "<div>\n",
       "<style scoped>\n",
       "    .dataframe tbody tr th:only-of-type {\n",
       "        vertical-align: middle;\n",
       "    }\n",
       "\n",
       "    .dataframe tbody tr th {\n",
       "        vertical-align: top;\n",
       "    }\n",
       "\n",
       "    .dataframe thead th {\n",
       "        text-align: right;\n",
       "    }\n",
       "</style>\n",
       "<table border=\"1\" class=\"dataframe\">\n",
       "  <thead>\n",
       "    <tr style=\"text-align: right;\">\n",
       "      <th>Origen_Recursos</th>\n",
       "      <th>Distribuido</th>\n",
       "      <th>Recursos Propios</th>\n",
       "    </tr>\n",
       "    <tr>\n",
       "      <th>Año</th>\n",
       "      <th></th>\n",
       "      <th></th>\n",
       "    </tr>\n",
       "  </thead>\n",
       "  <tbody>\n",
       "    <tr>\n",
       "      <th>2015</th>\n",
       "      <td>0.003</td>\n",
       "      <td>NaN</td>\n",
       "    </tr>\n",
       "    <tr>\n",
       "      <th>2016</th>\n",
       "      <td>0.259</td>\n",
       "      <td>NaN</td>\n",
       "    </tr>\n",
       "    <tr>\n",
       "      <th>2017</th>\n",
       "      <td>5.151</td>\n",
       "      <td>NaN</td>\n",
       "    </tr>\n",
       "    <tr>\n",
       "      <th>2018</th>\n",
       "      <td>19.180</td>\n",
       "      <td>0.000</td>\n",
       "    </tr>\n",
       "    <tr>\n",
       "      <th>2019</th>\n",
       "      <td>16.556</td>\n",
       "      <td>0.000</td>\n",
       "    </tr>\n",
       "    <tr>\n",
       "      <th>2020</th>\n",
       "      <td>13.199</td>\n",
       "      <td>0.952</td>\n",
       "    </tr>\n",
       "    <tr>\n",
       "      <th>2021</th>\n",
       "      <td>5.200</td>\n",
       "      <td>1.714</td>\n",
       "    </tr>\n",
       "    <tr>\n",
       "      <th>2022</th>\n",
       "      <td>5.549</td>\n",
       "      <td>1.019</td>\n",
       "    </tr>\n",
       "    <tr>\n",
       "      <th>2023</th>\n",
       "      <td>22.117</td>\n",
       "      <td>9.101</td>\n",
       "    </tr>\n",
       "  </tbody>\n",
       "</table>\n",
       "</div>"
      ],
      "text/plain": [
       "Origen_Recursos  Distribuido  Recursos Propios\n",
       "Año                                           \n",
       "2015                   0.003               NaN\n",
       "2016                   0.259               NaN\n",
       "2017                   5.151               NaN\n",
       "2018                  19.180             0.000\n",
       "2019                  16.556             0.000\n",
       "2020                  13.199             0.952\n",
       "2021                   5.200             1.714\n",
       "2022                   5.549             1.019\n",
       "2023                  22.117             9.101"
      ]
     },
     "execution_count": 11,
     "metadata": {},
     "output_type": "execute_result"
    }
   ],
   "source": [
    "#Porcentaje de recursos por año\n",
    "round(df.groupby(['Año','Origen_Recursos'])['Valor del Contrato'].sum().unstack()/df['Valor del Contrato'].sum()*100,3)"
   ]
  },
  {
   "cell_type": "markdown",
   "id": "1a3b3652",
   "metadata": {},
   "source": [
    "El 87.21% de los recursos empleados para contratación pública entre 2015 y 2023 corresponden a recursos de origen distribuido, es decir provenientes del presupuesto general de la nación, sistema general de regalias, sistema general de participación etc., el 12.79% restante corresponde a recursos propios de las entidades. Entre 2015 y 2019 la totalidad de los recursos para contratación fue de origen distribuido y desde 2020 hasta la fecha, se hacen presente las dos modalidades de financiación. En todos los casos, los recursos de origen distribuido realizan el mayor aporte de recursos en los procesos de contratación.\n"
   ]
  },
  {
   "cell_type": "markdown",
   "id": "bbc723b7",
   "metadata": {},
   "source": [
    "2- Distribución de los recursos distribuidos por orden (Corporación Autónoma / Nacional / Territorial) y Top 5 Departamentos con mayor asignación."
   ]
  },
  {
   "cell_type": "code",
   "execution_count": 12,
   "id": "635c888c",
   "metadata": {},
   "outputs": [
    {
     "data": {
      "text/html": [
       "<div>\n",
       "<style scoped>\n",
       "    .dataframe tbody tr th:only-of-type {\n",
       "        vertical-align: middle;\n",
       "    }\n",
       "\n",
       "    .dataframe tbody tr th {\n",
       "        vertical-align: top;\n",
       "    }\n",
       "\n",
       "    .dataframe thead th {\n",
       "        text-align: right;\n",
       "    }\n",
       "</style>\n",
       "<table border=\"1\" class=\"dataframe\">\n",
       "  <thead>\n",
       "    <tr style=\"text-align: right;\">\n",
       "      <th>Origen_Recursos</th>\n",
       "      <th>Distribuido</th>\n",
       "    </tr>\n",
       "    <tr>\n",
       "      <th>Orden</th>\n",
       "      <th></th>\n",
       "    </tr>\n",
       "  </thead>\n",
       "  <tbody>\n",
       "    <tr>\n",
       "      <th>Corporación Autónoma</th>\n",
       "      <td>0.26</td>\n",
       "    </tr>\n",
       "    <tr>\n",
       "      <th>Nacional</th>\n",
       "      <td>44.48</td>\n",
       "    </tr>\n",
       "    <tr>\n",
       "      <th>Territorial</th>\n",
       "      <td>42.48</td>\n",
       "    </tr>\n",
       "  </tbody>\n",
       "</table>\n",
       "</div>"
      ],
      "text/plain": [
       "Origen_Recursos       Distribuido\n",
       "Orden                            \n",
       "Corporación Autónoma         0.26\n",
       "Nacional                    44.48\n",
       "Territorial                 42.48"
      ]
     },
     "execution_count": 12,
     "metadata": {},
     "output_type": "execute_result"
    }
   ],
   "source": [
    "#Dsitribución de recursos\n",
    "round(df[df['Origen_Recursos'] == \"Distribuido\"].groupby(['Orden','Origen_Recursos'])['Valor del Contrato'].sum()/df['Valor del Contrato'].sum()*100,2).unstack()"
   ]
  },
  {
   "cell_type": "code",
   "execution_count": 13,
   "id": "cb03a5e1",
   "metadata": {},
   "outputs": [
    {
     "data": {
      "text/plain": [
       "Origen_Recursos\n",
       "Distribuido         0.943695\n",
       "Recursos Propios    0.056305\n",
       "Name: proportion, dtype: float64"
      ]
     },
     "execution_count": 13,
     "metadata": {},
     "output_type": "execute_result"
    }
   ],
   "source": [
    "df['Origen_Recursos'].value_counts(normalize = True)"
   ]
  },
  {
   "cell_type": "code",
   "execution_count": 14,
   "id": "76d0296e",
   "metadata": {},
   "outputs": [
    {
     "data": {
      "text/plain": [
       "Departamento\n",
       "Distrito Capital de Bogotá    48.94\n",
       "Antioquia                      6.76\n",
       "Cundinamarca                   4.14\n",
       "Valle del Cauca                3.02\n",
       "Bolívar                        2.92\n",
       "Name: Valor del Contrato, dtype: float64"
      ]
     },
     "execution_count": 14,
     "metadata": {},
     "output_type": "execute_result"
    }
   ],
   "source": [
    "#Top 5 dptos mayor asignación\n",
    "(round(df[df[\"Origen_Recursos\"] == \"Distribuido\"].groupby('Departamento')['Valor del Contrato'].sum().sort_values(ascending = False).head()/ df['Valor del Contrato'].sum()*100,2))"
   ]
  },
  {
   "cell_type": "code",
   "execution_count": 15,
   "id": "fb9d4ceb",
   "metadata": {},
   "outputs": [
    {
     "data": {
      "text/plain": [
       "<Axes: title={'center': 'Top 5 Departamentos con mayor asignación de recursos'}, xlabel='% Recursos', ylabel='Departamento'>"
      ]
     },
     "execution_count": 15,
     "metadata": {},
     "output_type": "execute_result"
    },
    {
     "data": {
      "image/png": "[encoded data removed]",
      "text/plain": [
       "<Figure size 500x200 with 1 Axes>"
      ]
     },
     "metadata": {},
     "output_type": "display_data"
    }
   ],
   "source": [
    "#Top 5 dptos mayor asignación\n",
    "(round(df[df[\"Origen_Recursos\"] == \"Distribuido\"].groupby('Departamento')['Valor del Contrato'].sum().sort_values(ascending = False).head()/ df['Valor del Contrato'].sum()*100,2)).plot(kind='barh', figsize =(5,2), color = 'grey', xlabel = '% Recursos', title ='Top 5 Departamentos con mayor asignación de recursos')"
   ]
  },
  {
   "cell_type": "markdown",
   "id": "63420319",
   "metadata": {},
   "source": [
    "Entre 2015 y lo corrido de 2023, el 44.48% los recursos de origen distribuido ha sido destinado a la contración pública de orden nacional, el 42.48% al orden territorial y el 0.26% restante fue asignado a corporaciones autónomas. En lo que respecta a la distribución de estos recursos a nivel departamental , el distrito capital de Bogotá, de regimen especial, recibió el 48,94% de los recursos de la Nación, seguido de Antioquia, Cundinamarca, Valle del Cauca y Bolívar con el 6.76,4.14,3.02 y 2.92% respectivamente."
   ]
  },
  {
   "cell_type": "markdown",
   "id": "798605a3",
   "metadata": {},
   "source": [
    "3- Modalidad de contración (Directa, Decreto, ...) con el que se gestiona la mayor cantidad de recursos, número de contratos y valor de los mismos. "
   ]
  },
  {
   "cell_type": "code",
   "execution_count": 16,
   "id": "f5eaf4bb",
   "metadata": {},
   "outputs": [
    {
     "data": {
      "text/html": [
       "<div>\n",
       "<style scoped>\n",
       "    .dataframe tbody tr th:only-of-type {\n",
       "        vertical-align: middle;\n",
       "    }\n",
       "\n",
       "    .dataframe tbody tr th {\n",
       "        vertical-align: top;\n",
       "    }\n",
       "\n",
       "    .dataframe thead th {\n",
       "        text-align: right;\n",
       "    }\n",
       "</style>\n",
       "<table border=\"1\" class=\"dataframe\">\n",
       "  <thead>\n",
       "    <tr style=\"text-align: right;\">\n",
       "      <th></th>\n",
       "      <th>count</th>\n",
       "      <th>sum</th>\n",
       "    </tr>\n",
       "    <tr>\n",
       "      <th>Modalidad de Contratacion</th>\n",
       "      <th></th>\n",
       "      <th></th>\n",
       "    </tr>\n",
       "  </thead>\n",
       "  <tbody>\n",
       "    <tr>\n",
       "      <th>Contratación directa</th>\n",
       "      <td>150661</td>\n",
       "      <td>9992728400698</td>\n",
       "    </tr>\n",
       "    <tr>\n",
       "      <th>Licitación pública Obra Publica</th>\n",
       "      <td>523</td>\n",
       "      <td>2762509882996</td>\n",
       "    </tr>\n",
       "    <tr>\n",
       "      <th>Contratación régimen especial</th>\n",
       "      <td>19411</td>\n",
       "      <td>2573083806565</td>\n",
       "    </tr>\n",
       "    <tr>\n",
       "      <th>Licitación pública</th>\n",
       "      <td>689</td>\n",
       "      <td>2130015180081</td>\n",
       "    </tr>\n",
       "    <tr>\n",
       "      <th>Contratación régimen especial (con ofertas)</th>\n",
       "      <td>2444</td>\n",
       "      <td>2071924873954</td>\n",
       "    </tr>\n",
       "  </tbody>\n",
       "</table>\n",
       "</div>"
      ],
      "text/plain": [
       "                                              count            sum\n",
       "Modalidad de Contratacion                                         \n",
       "Contratación directa                         150661  9992728400698\n",
       "Licitación pública Obra Publica                 523  2762509882996\n",
       "Contratación régimen especial                 19411  2573083806565\n",
       "Licitación pública                              689  2130015180081\n",
       "Contratación régimen especial (con ofertas)    2444  2071924873954"
      ]
     },
     "execution_count": 16,
     "metadata": {},
     "output_type": "execute_result"
    }
   ],
   "source": [
    "# Recursos asignados y número de contratos según Modalidad de contratación\n",
    "df.groupby('Modalidad de Contratacion')['Valor del Contrato'].agg(['count','sum']).sort_values(by='sum', ascending = False).head()"
   ]
  },
  {
   "cell_type": "code",
   "execution_count": 17,
   "id": "340f0a34",
   "metadata": {},
   "outputs": [
    {
     "data": {
      "text/plain": [
       "Modalidad de Contratacion\n",
       "Contratación directa               40.99\n",
       "Licitación pública Obra Publica    11.33\n",
       "Contratación régimen especial      10.55\n",
       "Name: Valor del Contrato, dtype: float64"
      ]
     },
     "execution_count": 17,
     "metadata": {},
     "output_type": "execute_result"
    }
   ],
   "source": [
    "# % Recursos asignados según Modalidad de contratación\n",
    "round(df.groupby('Modalidad de Contratacion')['Valor del Contrato'].sum().sort_values(ascending = False).head(3)/df['Valor del Contrato'].sum()*100,2)"
   ]
  },
  {
   "cell_type": "code",
   "execution_count": 18,
   "id": "d0948659",
   "metadata": {},
   "outputs": [
    {
     "data": {
      "text/plain": [
       "Modalidad de Contratacion\n",
       "Contratación directa             70.03\n",
       "Mínima cuantía                   11.14\n",
       "Contratación régimen especial     9.02\n",
       "Name: Valor del Contrato, dtype: float64"
      ]
     },
     "metadata": {},
     "output_type": "display_data"
    },
    {
     "data": {
      "image/png": "[encoded data removed]",
      "text/plain": [
       "<Figure size 500x300 with 1 Axes>"
      ]
     },
     "metadata": {},
     "output_type": "display_data"
    }
   ],
   "source": [
    "# Contratos celebrados según Modalidad de contratación  \n",
    "display(round(df.groupby('Modalidad de Contratacion')['Valor del Contrato'].count().sort_values(ascending = False).head(3)/df['Valor del Contrato'].count()*100,2))\n",
    "\n",
    "(round(df.groupby('Modalidad de Contratacion')['Valor del Contrato'].count().sort_values(ascending = False).head(3)/df['Valor del Contrato'].count()*100,2)).plot(kind='pie', figsize=(5,3))\n",
    "plt.show()\n"
   ]
  },
  {
   "cell_type": "markdown",
   "id": "ff656970",
   "metadata": {},
   "source": [
    "En términos de recursos, la modalidad de contratación con la que se gestiona mayor cantidad de contratos, es la contratación directa con el 40.99% de los recursos, modalidad que a su vez representa el 70% (150661) de los contratos celebrados."
   ]
  },
  {
   "cell_type": "markdown",
   "id": "cfccacb8",
   "metadata": {},
   "source": [
    "4- Top 5 sectores (Medio ambiente, Deporte, transporte,...) que reciben mayor cantidad de recursos para contratación para funcionamiento."
   ]
  },
  {
   "cell_type": "code",
   "execution_count": 19,
   "id": "9b04764b",
   "metadata": {},
   "outputs": [
    {
     "data": {
      "text/html": [
       "<div>\n",
       "<style scoped>\n",
       "    .dataframe tbody tr th:only-of-type {\n",
       "        vertical-align: middle;\n",
       "    }\n",
       "\n",
       "    .dataframe tbody tr th {\n",
       "        vertical-align: top;\n",
       "    }\n",
       "\n",
       "    .dataframe thead th {\n",
       "        text-align: right;\n",
       "    }\n",
       "</style>\n",
       "<table border=\"1\" class=\"dataframe\">\n",
       "  <thead>\n",
       "    <tr style=\"text-align: right;\">\n",
       "      <th>Destino Gasto</th>\n",
       "      <th>Funcionamiento</th>\n",
       "      <th>Inversión</th>\n",
       "      <th>No Definido</th>\n",
       "    </tr>\n",
       "    <tr>\n",
       "      <th>Sector</th>\n",
       "      <th></th>\n",
       "      <th></th>\n",
       "      <th></th>\n",
       "    </tr>\n",
       "  </thead>\n",
       "  <tbody>\n",
       "    <tr>\n",
       "      <th>defensa</th>\n",
       "      <td>1741055426393</td>\n",
       "      <td>270113539172</td>\n",
       "      <td>119842107942</td>\n",
       "    </tr>\n",
       "    <tr>\n",
       "      <th>Servicio Público</th>\n",
       "      <td>1206564790761</td>\n",
       "      <td>3673985606462</td>\n",
       "      <td>115666957909</td>\n",
       "    </tr>\n",
       "    <tr>\n",
       "      <th>Minas y Energía</th>\n",
       "      <td>656666198140</td>\n",
       "      <td>215854296278</td>\n",
       "      <td>70556521155</td>\n",
       "    </tr>\n",
       "    <tr>\n",
       "      <th>Ley de Justicia</th>\n",
       "      <td>639850062273</td>\n",
       "      <td>176344914625</td>\n",
       "      <td>4549876687</td>\n",
       "    </tr>\n",
       "    <tr>\n",
       "      <th>Hacienda y Crédito Público</th>\n",
       "      <td>531279851866</td>\n",
       "      <td>103581142000</td>\n",
       "      <td>14329832964</td>\n",
       "    </tr>\n",
       "  </tbody>\n",
       "</table>\n",
       "</div>"
      ],
      "text/plain": [
       "Destino Gasto               Funcionamiento      Inversión   No Definido\n",
       "Sector                                                                 \n",
       "defensa                      1741055426393   270113539172  119842107942\n",
       "Servicio Público             1206564790761  3673985606462  115666957909\n",
       "Minas y Energía               656666198140   215854296278   70556521155\n",
       "Ley de Justicia               639850062273   176344914625    4549876687\n",
       "Hacienda y Crédito Público    531279851866   103581142000   14329832964"
      ]
     },
     "execution_count": 19,
     "metadata": {},
     "output_type": "execute_result"
    }
   ],
   "source": [
    "# Asignación de recursos distribuidos por sector y destino del gasto\n",
    "df[df['Origen_Recursos'] == \"Distribuido\"].groupby(['Sector','Destino Gasto'])['Valor del Contrato'].sum().unstack().sort_values(by=\"Funcionamiento\", ascending = False).head()"
   ]
  },
  {
   "cell_type": "markdown",
   "id": "4e890d03",
   "metadata": {},
   "source": [
    "En su orden, Defensa, servicio público, minas y energía, ley de justicia y hacienda y crédito público son los 5 sectores que reciben mayor cantidad de recursos distribuidos para funcionamiento."
   ]
  },
  {
   "cell_type": "markdown",
   "id": "9773e255",
   "metadata": {},
   "source": [
    "5- Número y valor de contratos gestionados por la rama judicial en el departamento de Santander."
   ]
  },
  {
   "cell_type": "code",
   "execution_count": 20,
   "id": "1e9a75b8",
   "metadata": {},
   "outputs": [
    {
     "data": {
      "text/html": [
       "<div>\n",
       "<style scoped>\n",
       "    .dataframe tbody tr th:only-of-type {\n",
       "        vertical-align: middle;\n",
       "    }\n",
       "\n",
       "    .dataframe tbody tr th {\n",
       "        vertical-align: top;\n",
       "    }\n",
       "\n",
       "    .dataframe thead th {\n",
       "        text-align: right;\n",
       "    }\n",
       "</style>\n",
       "<table border=\"1\" class=\"dataframe\">\n",
       "  <thead>\n",
       "    <tr style=\"text-align: right;\">\n",
       "      <th></th>\n",
       "      <th>count</th>\n",
       "      <th>sum</th>\n",
       "    </tr>\n",
       "    <tr>\n",
       "      <th>Rama</th>\n",
       "      <th></th>\n",
       "      <th></th>\n",
       "    </tr>\n",
       "  </thead>\n",
       "  <tbody>\n",
       "    <tr>\n",
       "      <th>Corporación Autónoma</th>\n",
       "      <td>572</td>\n",
       "      <td>21300334880</td>\n",
       "    </tr>\n",
       "    <tr>\n",
       "      <th>Ejecutivo</th>\n",
       "      <td>6904</td>\n",
       "      <td>307365243473</td>\n",
       "    </tr>\n",
       "    <tr>\n",
       "      <th>Judicial</th>\n",
       "      <td>78</td>\n",
       "      <td>2596335026</td>\n",
       "    </tr>\n",
       "    <tr>\n",
       "      <th>Legislativo</th>\n",
       "      <td>1</td>\n",
       "      <td>9063911</td>\n",
       "    </tr>\n",
       "  </tbody>\n",
       "</table>\n",
       "</div>"
      ],
      "text/plain": [
       "                      count           sum\n",
       "Rama                                     \n",
       "Corporación Autónoma    572   21300334880\n",
       "Ejecutivo              6904  307365243473\n",
       "Judicial                 78    2596335026\n",
       "Legislativo               1       9063911"
      ]
     },
     "execution_count": 20,
     "metadata": {},
     "output_type": "execute_result"
    }
   ],
   "source": [
    "df[df['Departamento'] == \"Santander\"].groupby('Rama')['Valor del Contrato'].agg(['count', 'sum'])"
   ]
  },
  {
   "cell_type": "markdown",
   "id": "8c947a5f",
   "metadata": {},
   "source": [
    "Entre 2015 y lo corrido de 2023, la rama judicial en santander ha gestionado 78 contratos por valor de $2.596.335.026."
   ]
  },
  {
   "cell_type": "markdown",
   "id": "f602b581",
   "metadata": {},
   "source": [
    "6- Comparativa asignación de recursos distribuidos para contratación pública en el sector defensa por año."
   ]
  },
  {
   "cell_type": "code",
   "execution_count": 21,
   "id": "b5116bf4",
   "metadata": {},
   "outputs": [
    {
     "data": {
      "text/plain": [
       "Año\n",
       "2016      2037089517\n",
       "2017    138820418474\n",
       "2018    669206019719\n",
       "2019    609379102202\n",
       "2020    212842940154\n",
       "2021     83577425775\n",
       "2022     14723707299\n",
       "2023    400424370367\n",
       "Name: Valor del Contrato, dtype: int64"
      ]
     },
     "metadata": {},
     "output_type": "display_data"
    },
    {
     "data": {
      "image/png": "[encoded data removed]",
      "text/plain": [
       "<Figure size 500x200 with 1 Axes>"
      ]
     },
     "metadata": {},
     "output_type": "display_data"
    }
   ],
   "source": [
    "from matplotlib.ticker import FuncFormatter\n",
    "display(df.query(\" Origen_Recursos == 'Distribuido' & Sector ==  'defensa' \").groupby('Año')['Valor del Contrato'].sum())\n",
    "df.query(\" Origen_Recursos == 'Distribuido' & Sector ==  'defensa' \").groupby('Año')['Valor del Contrato'].sum().plot(kind ='bar', figsize =(5,2), color = 'grey' , ylabel = 'Recursos Asignados^{10}' , title = 'Recursos sector Defensa por año', grid = True)\n",
    "formatter = FuncFormatter(lambda y, _: str(y / 10000000000))\n",
    "plt.gca().yaxis.set_major_formatter(formatter)\n",
    "plt.show()"
   ]
  },
  {
   "cell_type": "markdown",
   "id": "71e9dc04",
   "metadata": {},
   "source": [
    "El mayor aporte de recursos distribuidos para la contratación pública  en el sector Defensa se realizó durante los años 2018 y 2019, año en el que la inversión se desescaló paulatinamenta hasta 2022 donde se registra el valor mínimo de $$ 14.723.707.299. En lo corrido de 2023 se han asignado $400.311.070.367 ."
   ]
  },
  {
   "cell_type": "markdown",
   "id": "efbe6335",
   "metadata": {},
   "source": [
    "7- Sectores del orden Nacional y orden Territorial con mayor asignación de recursos distribuidos en 2022."
   ]
  },
  {
   "cell_type": "code",
   "execution_count": 22,
   "id": "d7aac07a",
   "metadata": {},
   "outputs": [
    {
     "data": {
      "text/plain": [
       "Sector\n",
       "Transporte          29144099241\n",
       "interior            22659316737\n",
       "Servicio Público    21488318688\n",
       "Name: Valor del Contrato, dtype: int64"
      ]
     },
     "execution_count": 22,
     "metadata": {},
     "output_type": "execute_result"
    }
   ],
   "source": [
    "#Orden Nacional\n",
    "df.query(\"Año == 2022 & Orden == 'Nacional' \").groupby('Sector')['Valor del Contrato'].sum().sort_values(ascending = False).head(3)"
   ]
  },
  {
   "cell_type": "code",
   "execution_count": 23,
   "id": "580285a6",
   "metadata": {},
   "outputs": [
    {
     "data": {
      "text/plain": [
       "Sector\n",
       "Servicio Público              677569244949\n",
       "Hacienda y Crédito Público    240533910094\n",
       "No aplica/No pertenece        233470778526\n",
       "Name: Valor del Contrato, dtype: int64"
      ]
     },
     "execution_count": 23,
     "metadata": {},
     "output_type": "execute_result"
    }
   ],
   "source": [
    "#Orden Territorial\n",
    "df.query(\"Año == 2022 & Orden == 'Territorial'\").groupby('Sector')['Valor del Contrato'].sum().sort_values(ascending = False).head(3)"
   ]
  },
  {
   "cell_type": "markdown",
   "id": "4f045780",
   "metadata": {},
   "source": [
    "En 2022, del orden Nacional, los sectores con mayor asignación de recursos distribuidos para contratación pública son en su orden: Transporte,Interiror y Servicio Público. Por su parte para el orden Territorial,el Servicio Público y Hacienda y Crédito público recibieron la mayor cantidad de aportes. El sector del orden territorial que ocupa el tercer lugar en asignaciones no esta definido especificamente."
   ]
  },
  {
   "cell_type": "markdown",
   "id": "0e784eef",
   "metadata": {},
   "source": [
    "8- Top 5 Entidades territoriales/ Departamentos que realiza mayor aporte de recursos propios para procesos de contratación pública."
   ]
  },
  {
   "cell_type": "code",
   "execution_count": 24,
   "id": "50ed6134",
   "metadata": {},
   "outputs": [
    {
     "data": {
      "text/html": [
       "<div>\n",
       "<style scoped>\n",
       "    .dataframe tbody tr th:only-of-type {\n",
       "        vertical-align: middle;\n",
       "    }\n",
       "\n",
       "    .dataframe tbody tr th {\n",
       "        vertical-align: top;\n",
       "    }\n",
       "\n",
       "    .dataframe thead th {\n",
       "        text-align: right;\n",
       "    }\n",
       "</style>\n",
       "<table border=\"1\" class=\"dataframe\">\n",
       "  <thead>\n",
       "    <tr style=\"text-align: right;\">\n",
       "      <th></th>\n",
       "      <th>sum</th>\n",
       "      <th>count</th>\n",
       "    </tr>\n",
       "    <tr>\n",
       "      <th>Departamento</th>\n",
       "      <th></th>\n",
       "      <th></th>\n",
       "    </tr>\n",
       "  </thead>\n",
       "  <tbody>\n",
       "    <tr>\n",
       "      <th>Distrito Capital de Bogotá</th>\n",
       "      <td>1177339324946</td>\n",
       "      <td>5224</td>\n",
       "    </tr>\n",
       "    <tr>\n",
       "      <th>La Guajira</th>\n",
       "      <td>488914368207</td>\n",
       "      <td>128</td>\n",
       "    </tr>\n",
       "    <tr>\n",
       "      <th>Cundinamarca</th>\n",
       "      <td>316267850654</td>\n",
       "      <td>394</td>\n",
       "    </tr>\n",
       "    <tr>\n",
       "      <th>Atlántico</th>\n",
       "      <td>259947424206</td>\n",
       "      <td>713</td>\n",
       "    </tr>\n",
       "    <tr>\n",
       "      <th>Antioquia</th>\n",
       "      <td>176038676673</td>\n",
       "      <td>1089</td>\n",
       "    </tr>\n",
       "  </tbody>\n",
       "</table>\n",
       "</div>"
      ],
      "text/plain": [
       "                                      sum  count\n",
       "Departamento                                    \n",
       "Distrito Capital de Bogotá  1177339324946   5224\n",
       "La Guajira                   488914368207    128\n",
       "Cundinamarca                 316267850654    394\n",
       "Atlántico                    259947424206    713\n",
       "Antioquia                    176038676673   1089"
      ]
     },
     "execution_count": 24,
     "metadata": {},
     "output_type": "execute_result"
    }
   ],
   "source": [
    "df[df['Origen_Recursos'] == 'Recursos Propios'].groupby('Departamento')['Valor del Contrato'].agg(['sum', 'count']).sort_values(by ='sum', ascending= False).head()"
   ]
  },
  {
   "cell_type": "markdown",
   "id": "b9ffeaad",
   "metadata": {},
   "source": [
    "Las entidades territoriales o departamentos que hacen mayor contribución de recursos propios en los procesos de contratación pública, son es su orden: Distrito especial de Bogotá, La Guajira, Cundinamarca, Atlántico y Antioquia. Caso particular se presenta en el departamento de La Guajira, considerado como uno de los más pobres de la Nación, donde con un aporte de $488.914.368.207 entre 2015 y lo corrido de 2023, se han apoyado 128 procesos de contratación. El aporte de recursos realizado por el departamento de La Guajira, es superior a la aportada por departamentos con mayor reconocimiento como Atlántico, Antioquia, Valle del Cauca y Santander con mayor desarrollo económico y que reciben mayor aporte de recursos distribuidos."
   ]
  },
  {
   "cell_type": "markdown",
   "id": "c34c2341",
   "metadata": {},
   "source": [
    "9- Meses con mayor gestion de contratos, Número y valor de los mismos. Indique Top 3 Departamentos que durante estos meses en 2022 gestionaron estos recursos."
   ]
  },
  {
   "cell_type": "code",
   "execution_count": 25,
   "id": "407b94b6",
   "metadata": {},
   "outputs": [
    {
     "data": {
      "text/html": [
       "<div>\n",
       "<style scoped>\n",
       "    .dataframe tbody tr th:only-of-type {\n",
       "        vertical-align: middle;\n",
       "    }\n",
       "\n",
       "    .dataframe tbody tr th {\n",
       "        vertical-align: top;\n",
       "    }\n",
       "\n",
       "    .dataframe thead th {\n",
       "        text-align: right;\n",
       "    }\n",
       "</style>\n",
       "<table border=\"1\" class=\"dataframe\">\n",
       "  <thead>\n",
       "    <tr style=\"text-align: right;\">\n",
       "      <th></th>\n",
       "      <th>sum</th>\n",
       "      <th>count</th>\n",
       "    </tr>\n",
       "    <tr>\n",
       "      <th>Mes</th>\n",
       "      <th></th>\n",
       "      <th></th>\n",
       "    </tr>\n",
       "  </thead>\n",
       "  <tbody>\n",
       "    <tr>\n",
       "      <th>10</th>\n",
       "      <td>3668516356276</td>\n",
       "      <td>24228</td>\n",
       "    </tr>\n",
       "    <tr>\n",
       "      <th>1</th>\n",
       "      <td>2771867952771</td>\n",
       "      <td>49372</td>\n",
       "    </tr>\n",
       "    <tr>\n",
       "      <th>6</th>\n",
       "      <td>2609746754141</td>\n",
       "      <td>7489</td>\n",
       "    </tr>\n",
       "    <tr>\n",
       "      <th>12</th>\n",
       "      <td>2568724481523</td>\n",
       "      <td>14156</td>\n",
       "    </tr>\n",
       "    <tr>\n",
       "      <th>9</th>\n",
       "      <td>2483288222590</td>\n",
       "      <td>12783</td>\n",
       "    </tr>\n",
       "  </tbody>\n",
       "</table>\n",
       "</div>"
      ],
      "text/plain": [
       "               sum  count\n",
       "Mes                      \n",
       "10   3668516356276  24228\n",
       "1    2771867952771  49372\n",
       "6    2609746754141   7489\n",
       "12   2568724481523  14156\n",
       "9    2483288222590  12783"
      ]
     },
     "execution_count": 25,
     "metadata": {},
     "output_type": "execute_result"
    }
   ],
   "source": [
    "#Gestión contratos por mes\n",
    "df.groupby('Mes')['Valor del Contrato'].agg(['sum','count']).sort_values(by = 'sum', ascending = False).head()"
   ]
  },
  {
   "cell_type": "code",
   "execution_count": 26,
   "id": "9e2868b6",
   "metadata": {},
   "outputs": [
    {
     "data": {
      "text/plain": [
       "Año   Departamento              \n",
       "2022  Distrito Capital de Bogotá    23561917369\n",
       "      Tolima                        10503567792\n",
       "      Magdalena                      9141553804\n",
       "Name: Valor del Contrato, dtype: int64"
      ]
     },
     "execution_count": 26,
     "metadata": {},
     "output_type": "execute_result"
    }
   ],
   "source": [
    "#Octubre - Dptos\n",
    "df.query(\" Mes ==10 & Año ==2022\" ).groupby(['Año','Departamento'])['Valor del Contrato'].sum().sort_values(ascending = False).head(3)"
   ]
  },
  {
   "cell_type": "code",
   "execution_count": 27,
   "id": "ce44a8f8",
   "metadata": {},
   "outputs": [
    {
     "data": {
      "text/plain": [
       "Año   Departamento              \n",
       "2022  Distrito Capital de Bogotá    17797214509\n",
       "      Antioquia                     12498819472\n",
       "      Córdoba                       11875575563\n",
       "Name: Valor del Contrato, dtype: int64"
      ]
     },
     "execution_count": 27,
     "metadata": {},
     "output_type": "execute_result"
    }
   ],
   "source": [
    "#Enero - Dptos\n",
    "df.query(\" Mes ==1 & Año ==2022\" ).groupby(['Año','Departamento'])['Valor del Contrato'].sum().sort_values(ascending = False).head(3)"
   ]
  },
  {
   "cell_type": "code",
   "execution_count": 28,
   "id": "8adc82d1",
   "metadata": {},
   "outputs": [
    {
     "data": {
      "text/plain": [
       "Año   Departamento              \n",
       "2022  Cundinamarca                  28342945911\n",
       "      Distrito Capital de Bogotá    18050552731\n",
       "      Nariño                        13880748528\n",
       "Name: Valor del Contrato, dtype: int64"
      ]
     },
     "execution_count": 28,
     "metadata": {},
     "output_type": "execute_result"
    }
   ],
   "source": [
    "#Junio - Dptos\n",
    "df.query(\" Mes ==6 & Año ==2022\" ).groupby(['Año','Departamento'])['Valor del Contrato'].sum().sort_values(ascending = False).head(3)"
   ]
  },
  {
   "cell_type": "markdown",
   "id": "9bc073ab",
   "metadata": {},
   "source": [
    "En 2022, durante los meses de enero, junio y octubre, se gestionó la mayoría de la contratación pública con recursos por valor de COP 9.050.335.671.774 para un total de 74.346 contratos. Siendo Octubre el mes con mayor gestión de recursos durante el año (COP 3.668.598.871.838). \n",
    "\n",
    "Los departamentos con mayor gestion de recursos durante estos meses de 2022 fueron:\n",
    "\n",
    "Enero: Distrito capital de Bogotá, Antioquia y Cordoba.\n",
    "Junio: Cundinamarca, Distrito capital de Bogotá y Nariño.\n",
    "Octubre: Distrito capital de Bogotá, Tolima y Magdalena."
   ]
  },
  {
   "cell_type": "markdown",
   "id": "64f64ed8",
   "metadata": {},
   "source": [
    "10- Relación Valor y número de contratos por tipo de proveedor."
   ]
  },
  {
   "cell_type": "code",
   "execution_count": 29,
   "id": "7dd291da",
   "metadata": {},
   "outputs": [
    {
     "data": {
      "text/html": [
       "<div>\n",
       "<style scoped>\n",
       "    .dataframe tbody tr th:only-of-type {\n",
       "        vertical-align: middle;\n",
       "    }\n",
       "\n",
       "    .dataframe tbody tr th {\n",
       "        vertical-align: top;\n",
       "    }\n",
       "\n",
       "    .dataframe thead th {\n",
       "        text-align: right;\n",
       "    }\n",
       "</style>\n",
       "<table border=\"1\" class=\"dataframe\">\n",
       "  <thead>\n",
       "    <tr style=\"text-align: right;\">\n",
       "      <th></th>\n",
       "      <th>sum</th>\n",
       "      <th>count</th>\n",
       "    </tr>\n",
       "    <tr>\n",
       "      <th>TipoDocProveedor</th>\n",
       "      <th></th>\n",
       "      <th></th>\n",
       "    </tr>\n",
       "  </thead>\n",
       "  <tbody>\n",
       "    <tr>\n",
       "      <th>No Definido</th>\n",
       "      <td>17095642059476</td>\n",
       "      <td>48444</td>\n",
       "    </tr>\n",
       "    <tr>\n",
       "      <th>Cédula de Ciudadanía</th>\n",
       "      <td>4844799398132</td>\n",
       "      <td>165384</td>\n",
       "    </tr>\n",
       "    <tr>\n",
       "      <th>Sin Descripcion</th>\n",
       "      <td>2424106671801</td>\n",
       "      <td>1063</td>\n",
       "    </tr>\n",
       "    <tr>\n",
       "      <th>Cédula de Extranjería</th>\n",
       "      <td>9050720419</td>\n",
       "      <td>205</td>\n",
       "    </tr>\n",
       "    <tr>\n",
       "      <th>Registro Civil</th>\n",
       "      <td>2072964101</td>\n",
       "      <td>4</td>\n",
       "    </tr>\n",
       "    <tr>\n",
       "      <th>Tarjeta de Identidad</th>\n",
       "      <td>1984484861</td>\n",
       "      <td>21</td>\n",
       "    </tr>\n",
       "    <tr>\n",
       "      <th>Pasaporte</th>\n",
       "      <td>958504600</td>\n",
       "      <td>20</td>\n",
       "    </tr>\n",
       "    <tr>\n",
       "      <th>Permiso especial de permanencia</th>\n",
       "      <td>59434000</td>\n",
       "      <td>4</td>\n",
       "    </tr>\n",
       "    <tr>\n",
       "      <th>Permiso por Protección Temporal</th>\n",
       "      <td>50719663</td>\n",
       "      <td>6</td>\n",
       "    </tr>\n",
       "  </tbody>\n",
       "</table>\n",
       "</div>"
      ],
      "text/plain": [
       "                                            sum   count\n",
       "TipoDocProveedor                                       \n",
       "No Definido                      17095642059476   48444\n",
       "Cédula de Ciudadanía              4844799398132  165384\n",
       "Sin Descripcion                   2424106671801    1063\n",
       "Cédula de Extranjería                9050720419     205\n",
       "Registro Civil                       2072964101       4\n",
       "Tarjeta de Identidad                 1984484861      21\n",
       "Pasaporte                             958504600      20\n",
       "Permiso especial de permanencia        59434000       4\n",
       "Permiso por Protección Temporal        50719663       6"
      ]
     },
     "execution_count": 29,
     "metadata": {},
     "output_type": "execute_result"
    }
   ],
   "source": [
    "df.groupby('TipoDocProveedor')['Valor del Contrato'].agg(['sum', 'count']).sort_values(by='sum', ascending =False)"
   ]
  },
  {
   "cell_type": "markdown",
   "id": "2dd41578",
   "metadata": {},
   "source": [
    "Observaciones: Alrededor del 80% de la adjudicación de contratos se ha realizado a proveedores sin descripción o registro del tipo de documento. 25 (0.02%) contratos adjudicados a menores de edad, tipo de documento: Registro civil ó tarjeta de identidad."
   ]
  },
  {
   "cell_type": "markdown",
   "id": "565ca526",
   "metadata": {},
   "source": [
    "11- Comparativa gestión de contratos en Santander a partir de recursos propios y distribuidos por año."
   ]
  },
  {
   "cell_type": "code",
   "execution_count": 30,
   "id": "95ded107",
   "metadata": {},
   "outputs": [
    {
     "data": {
      "text/html": [
       "<div>\n",
       "<style scoped>\n",
       "    .dataframe tbody tr th:only-of-type {\n",
       "        vertical-align: middle;\n",
       "    }\n",
       "\n",
       "    .dataframe tbody tr th {\n",
       "        vertical-align: top;\n",
       "    }\n",
       "\n",
       "    .dataframe thead th {\n",
       "        text-align: right;\n",
       "    }\n",
       "</style>\n",
       "<table border=\"1\" class=\"dataframe\">\n",
       "  <thead>\n",
       "    <tr style=\"text-align: right;\">\n",
       "      <th>Origen_Recursos</th>\n",
       "      <th>Distribuido</th>\n",
       "      <th>Recursos Propios</th>\n",
       "    </tr>\n",
       "    <tr>\n",
       "      <th>Año</th>\n",
       "      <th></th>\n",
       "      <th></th>\n",
       "    </tr>\n",
       "  </thead>\n",
       "  <tbody>\n",
       "    <tr>\n",
       "      <th>2016</th>\n",
       "      <td>1.233000e+07</td>\n",
       "      <td>NaN</td>\n",
       "    </tr>\n",
       "    <tr>\n",
       "      <th>2017</th>\n",
       "      <td>3.954984e+10</td>\n",
       "      <td>NaN</td>\n",
       "    </tr>\n",
       "    <tr>\n",
       "      <th>2018</th>\n",
       "      <td>3.070513e+10</td>\n",
       "      <td>NaN</td>\n",
       "    </tr>\n",
       "    <tr>\n",
       "      <th>2019</th>\n",
       "      <td>6.402505e+10</td>\n",
       "      <td>NaN</td>\n",
       "    </tr>\n",
       "    <tr>\n",
       "      <th>2020</th>\n",
       "      <td>4.125587e+10</td>\n",
       "      <td>1.498283e+08</td>\n",
       "    </tr>\n",
       "    <tr>\n",
       "      <th>2021</th>\n",
       "      <td>5.296636e+09</td>\n",
       "      <td>1.050705e+10</td>\n",
       "    </tr>\n",
       "    <tr>\n",
       "      <th>2022</th>\n",
       "      <td>6.226978e+09</td>\n",
       "      <td>3.508494e+09</td>\n",
       "    </tr>\n",
       "    <tr>\n",
       "      <th>2023</th>\n",
       "      <td>1.172651e+11</td>\n",
       "      <td>1.276863e+10</td>\n",
       "    </tr>\n",
       "  </tbody>\n",
       "</table>\n",
       "</div>"
      ],
      "text/plain": [
       "Origen_Recursos   Distribuido  Recursos Propios\n",
       "Año                                            \n",
       "2016             1.233000e+07               NaN\n",
       "2017             3.954984e+10               NaN\n",
       "2018             3.070513e+10               NaN\n",
       "2019             6.402505e+10               NaN\n",
       "2020             4.125587e+10      1.498283e+08\n",
       "2021             5.296636e+09      1.050705e+10\n",
       "2022             6.226978e+09      3.508494e+09\n",
       "2023             1.172651e+11      1.276863e+10"
      ]
     },
     "metadata": {},
     "output_type": "display_data"
    },
    {
     "data": {
      "image/png": "[encoded data removed]",
      "text/plain": [
       "<Figure size 500x300 with 1 Axes>"
      ]
     },
     "metadata": {},
     "output_type": "display_data"
    }
   ],
   "source": [
    "display(df[df['Departamento'] =='Santander'].groupby(['Año', 'Origen_Recursos'])['Valor del Contrato'].sum().unstack())\n",
    "df[df['Departamento'] =='Santander'].groupby(['Año', 'Origen_Recursos'])['Valor del Contrato'].sum().unstack().plot(kind ='line', figsize =(5,3))\n",
    "plt.show()"
   ]
  },
  {
   "cell_type": "markdown",
   "id": "5648617d",
   "metadata": {},
   "source": [
    "Según la data, en Colombia solo hasta 2020 se incluyeron recursos propios para contratación pública. Particularmente para el Departamento de Santander, se evidencia una asignación fluctuante en la asignación de recursos distribuidos, con tendencia al aumento de los mismos entre 2016 y 2019, excepto para 2018 donde la asignación fue inferior a 2017. Ya para 2019 se observa una disminución progresiva en la asignación de recursos distribuidos hasta 2021, cuando la destinación de recursos propios fue superior a la asignación de recursos distribuidos. Durante 2021 y 2022 la asignación de recursos fue notablemente baja hecho que puede ser atribuido al impacto economico generado por la pandemia. Para lo corrido de 2023, tanto recursos distribuidos como propios han sido superiores que en años anteriores. "
   ]
  },
  {
   "cell_type": "markdown",
   "id": "67ad4938",
   "metadata": {},
   "source": [
    "### Disclaimer\n",
    "\n",
    "Los data empleada para este ejercicio corresponde a los contratos establecidos como 'ACTIVOS' según ColombiaCompraEficiente. Sin embargo, el porcentaje de contratos con fecha de finalización de la ejecución anterior o igual a la fecha en que fue actualizada la data asiende al 90.86%. Además, se registran fechas de finalización de contratos anterior a su firma."
   ]
  },
  {
   "cell_type": "code",
   "execution_count": 31,
   "id": "cc6f2ff6",
   "metadata": {},
   "outputs": [
    {
     "data": {
      "text/plain": [
       "90.86"
      ]
     },
     "execution_count": 31,
     "metadata": {},
     "output_type": "execute_result"
    }
   ],
   "source": [
    "#% de Contratos con fecha de finalización anterior o igual a la fecha de actualización del archivo\n",
    "round(df['Fecha_Fin_Contrato'].loc[df['Fecha_Fin_Contrato']<= datetime(2023,11,2,0,0,0)].count() / df.shape[0] *100,2)"
   ]
  },
  {
   "cell_type": "code",
   "execution_count": 32,
   "id": "3b2877ed",
   "metadata": {},
   "outputs": [
    {
     "data": {
      "text/plain": [
       "Timestamp('2013-03-01 00:00:00')"
      ]
     },
     "execution_count": 32,
     "metadata": {},
     "output_type": "execute_result"
    }
   ],
   "source": [
    "#Fecha fin contrato: min\n",
    "df['Fecha_Fin_Contrato'].min()"
   ]
  },
  {
   "cell_type": "code",
   "execution_count": 33,
   "id": "bdff9aec",
   "metadata": {},
   "outputs": [
    {
     "data": {
      "text/plain": [
       "Timestamp('2072-05-16 00:00:00')"
      ]
     },
     "execution_count": 33,
     "metadata": {},
     "output_type": "execute_result"
    }
   ],
   "source": [
    "#Fecha fin contrato : max\n",
    "df['Fecha_Fin_Contrato'].max()"
   ]
  }
 ],
 "metadata": {
  "kernelspec": {
   "display_name": "Python 3 (ipykernel)",
   "language": "python",
   "name": "python3"
  },
  "language_info": {
   "codemirror_mode": {
    "name": "ipython",
    "version": 3
   },
   "file_extension": ".py",
   "mimetype": "text/x-python",
   "name": "python",
   "nbconvert_exporter": "python",
   "pygments_lexer": "ipython3",
   "version": "3.9.7"
  }
 },
 "nbformat": 4,
 "nbformat_minor": 5
}
